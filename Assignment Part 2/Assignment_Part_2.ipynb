{
 "cells": [
  {
   "cell_type": "code",
   "execution_count": 1,
   "id": "149d7646",
   "metadata": {},
   "outputs": [
    {
     "data": {
      "text/html": [
       "<div>\n",
       "<style scoped>\n",
       "    .dataframe tbody tr th:only-of-type {\n",
       "        vertical-align: middle;\n",
       "    }\n",
       "\n",
       "    .dataframe tbody tr th {\n",
       "        vertical-align: top;\n",
       "    }\n",
       "\n",
       "    .dataframe thead th {\n",
       "        text-align: right;\n",
       "    }\n",
       "</style>\n",
       "<table border=\"1\" class=\"dataframe\">\n",
       "  <thead>\n",
       "    <tr style=\"text-align: right;\">\n",
       "      <th></th>\n",
       "      <th>ID</th>\n",
       "      <th>Customer Name</th>\n",
       "      <th>Division</th>\n",
       "      <th>Gender</th>\n",
       "      <th>MaritalStatus</th>\n",
       "      <th>Age</th>\n",
       "      <th>Income</th>\n",
       "    </tr>\n",
       "  </thead>\n",
       "  <tbody>\n",
       "    <tr>\n",
       "      <th>0</th>\n",
       "      <td>BU79786</td>\n",
       "      <td>Christine</td>\n",
       "      <td>Dhaka</td>\n",
       "      <td>F</td>\n",
       "      <td>Married</td>\n",
       "      <td>42</td>\n",
       "      <td>56274</td>\n",
       "    </tr>\n",
       "    <tr>\n",
       "      <th>1</th>\n",
       "      <td>QZ44356</td>\n",
       "      <td>Susan</td>\n",
       "      <td>Rajshahi</td>\n",
       "      <td>F</td>\n",
       "      <td>Single</td>\n",
       "      <td>32</td>\n",
       "      <td>0</td>\n",
       "    </tr>\n",
       "    <tr>\n",
       "      <th>2</th>\n",
       "      <td>AI49188</td>\n",
       "      <td>Margaret</td>\n",
       "      <td>Khulna</td>\n",
       "      <td>F</td>\n",
       "      <td>Married</td>\n",
       "      <td>48</td>\n",
       "      <td>48767</td>\n",
       "    </tr>\n",
       "    <tr>\n",
       "      <th>3</th>\n",
       "      <td>WW63253</td>\n",
       "      <td>David</td>\n",
       "      <td>Barishal</td>\n",
       "      <td>M</td>\n",
       "      <td>Married</td>\n",
       "      <td>32</td>\n",
       "      <td>0</td>\n",
       "    </tr>\n",
       "    <tr>\n",
       "      <th>4</th>\n",
       "      <td>HB64268</td>\n",
       "      <td>Peter</td>\n",
       "      <td>Mymensingh</td>\n",
       "      <td>M</td>\n",
       "      <td>Single</td>\n",
       "      <td>24</td>\n",
       "      <td>43836</td>\n",
       "    </tr>\n",
       "  </tbody>\n",
       "</table>\n",
       "</div>"
      ],
      "text/plain": [
       "        ID Customer Name    Division Gender MaritalStatus  Age  Income\n",
       "0  BU79786     Christine       Dhaka      F       Married   42   56274\n",
       "1  QZ44356         Susan    Rajshahi      F        Single   32       0\n",
       "2  AI49188      Margaret      Khulna      F       Married   48   48767\n",
       "3  WW63253         David    Barishal      M       Married   32       0\n",
       "4  HB64268         Peter  Mymensingh      M        Single   24   43836"
      ]
     },
     "execution_count": 1,
     "metadata": {},
     "output_type": "execute_result"
    }
   ],
   "source": [
    "import numpy as np\n",
    "import pandas as pd\n",
    "df = pd.read_excel(\"Assignment for Data Scientist.xlsx\", sheet_name = 'Sheet1')\n",
    "df.head()"
   ]
  },
  {
   "cell_type": "markdown",
   "id": "b147329c",
   "metadata": {},
   "source": [
    "> Converting sheet1 into a CSV file:"
   ]
  },
  {
   "cell_type": "code",
   "execution_count": 3,
   "id": "34fee261",
   "metadata": {},
   "outputs": [],
   "source": [
    "df.to_csv('sheet1.csv', encoding='utf-8', index=False)"
   ]
  },
  {
   "cell_type": "code",
   "execution_count": 4,
   "id": "95a8b431",
   "metadata": {},
   "outputs": [
    {
     "data": {
      "text/html": [
       "<div>\n",
       "<style scoped>\n",
       "    .dataframe tbody tr th:only-of-type {\n",
       "        vertical-align: middle;\n",
       "    }\n",
       "\n",
       "    .dataframe tbody tr th {\n",
       "        vertical-align: top;\n",
       "    }\n",
       "\n",
       "    .dataframe thead th {\n",
       "        text-align: right;\n",
       "    }\n",
       "</style>\n",
       "<table border=\"1\" class=\"dataframe\">\n",
       "  <thead>\n",
       "    <tr style=\"text-align: right;\">\n",
       "      <th></th>\n",
       "      <th>ID</th>\n",
       "      <th>Customer Name</th>\n",
       "      <th>Division</th>\n",
       "      <th>Gender</th>\n",
       "      <th>MaritalStatus</th>\n",
       "      <th>Age</th>\n",
       "      <th>Income</th>\n",
       "    </tr>\n",
       "  </thead>\n",
       "  <tbody>\n",
       "    <tr>\n",
       "      <th>0</th>\n",
       "      <td>BU79786</td>\n",
       "      <td>Christine</td>\n",
       "      <td>Dhaka</td>\n",
       "      <td>F</td>\n",
       "      <td>Married</td>\n",
       "      <td>42</td>\n",
       "      <td>56274</td>\n",
       "    </tr>\n",
       "    <tr>\n",
       "      <th>1</th>\n",
       "      <td>QZ44356</td>\n",
       "      <td>Susan</td>\n",
       "      <td>Rajshahi</td>\n",
       "      <td>F</td>\n",
       "      <td>Single</td>\n",
       "      <td>32</td>\n",
       "      <td>0</td>\n",
       "    </tr>\n",
       "    <tr>\n",
       "      <th>2</th>\n",
       "      <td>AI49188</td>\n",
       "      <td>Margaret</td>\n",
       "      <td>Khulna</td>\n",
       "      <td>F</td>\n",
       "      <td>Married</td>\n",
       "      <td>48</td>\n",
       "      <td>48767</td>\n",
       "    </tr>\n",
       "    <tr>\n",
       "      <th>3</th>\n",
       "      <td>WW63253</td>\n",
       "      <td>David</td>\n",
       "      <td>Barishal</td>\n",
       "      <td>M</td>\n",
       "      <td>Married</td>\n",
       "      <td>32</td>\n",
       "      <td>0</td>\n",
       "    </tr>\n",
       "    <tr>\n",
       "      <th>4</th>\n",
       "      <td>HB64268</td>\n",
       "      <td>Peter</td>\n",
       "      <td>Mymensingh</td>\n",
       "      <td>M</td>\n",
       "      <td>Single</td>\n",
       "      <td>24</td>\n",
       "      <td>43836</td>\n",
       "    </tr>\n",
       "  </tbody>\n",
       "</table>\n",
       "</div>"
      ],
      "text/plain": [
       "        ID Customer Name    Division Gender MaritalStatus  Age  Income\n",
       "0  BU79786     Christine       Dhaka      F       Married   42   56274\n",
       "1  QZ44356         Susan    Rajshahi      F        Single   32       0\n",
       "2  AI49188      Margaret      Khulna      F       Married   48   48767\n",
       "3  WW63253         David    Barishal      M       Married   32       0\n",
       "4  HB64268         Peter  Mymensingh      M        Single   24   43836"
      ]
     },
     "execution_count": 4,
     "metadata": {},
     "output_type": "execute_result"
    }
   ],
   "source": [
    "sheet1 = pd.read_csv(\"sheet1.csv\")\n",
    "sheet1.head()"
   ]
  },
  {
   "cell_type": "code",
   "execution_count": 5,
   "id": "9bdd7259",
   "metadata": {},
   "outputs": [
    {
     "data": {
      "text/plain": [
       "ID               0\n",
       "Customer Name    0\n",
       "Division         0\n",
       "Gender           0\n",
       "MaritalStatus    0\n",
       "Age              0\n",
       "Income           0\n",
       "dtype: int64"
      ]
     },
     "execution_count": 5,
     "metadata": {},
     "output_type": "execute_result"
    }
   ],
   "source": [
    "df.isnull().sum()"
   ]
  },
  {
   "cell_type": "code",
   "execution_count": 6,
   "id": "d319b600",
   "metadata": {},
   "outputs": [
    {
     "data": {
      "text/plain": [
       "Khulna        7\n",
       "Sylhet        7\n",
       "Rangpur       7\n",
       "Chattogram    7\n",
       "Dhaka         6\n",
       "Rajshahi      6\n",
       "Mymensingh    6\n",
       "Barishal      4\n",
       "Name: Division, dtype: int64"
      ]
     },
     "execution_count": 6,
     "metadata": {},
     "output_type": "execute_result"
    }
   ],
   "source": [
    "df['Division'].value_counts()"
   ]
  },
  {
   "cell_type": "markdown",
   "id": "bdcb2356",
   "metadata": {},
   "source": [
    "> Some basic Visualization:"
   ]
  },
  {
   "cell_type": "code",
   "execution_count": 9,
   "id": "02d46841",
   "metadata": {},
   "outputs": [
    {
     "data": {
      "image/png": "[encoded data removed]",
      "text/plain": [
       "<Figure size 720x576 with 1 Axes>"
      ]
     },
     "metadata": {},
     "output_type": "display_data"
    }
   ],
   "source": [
    "import matplotlib.pyplot as plt\n",
    "\n",
    "plt.rcParams['figure.figsize']=(10,8)\n",
    "color = ['yellowgreen','gold']\n",
    "labels =['Male','Female']\n",
    "df['Gender'].value_counts().plot.pie(colors=color,explode=(0,0.08),startangle=50,shadow=True,autopct=\"%0.1f%%\")\n",
    "plt.legend(labels,loc='best')\n",
    "plt.axis('on');"
   ]
  },
  {
   "cell_type": "markdown",
   "id": "719797cf",
   "metadata": {},
   "source": [
    "- 52% of the whole dataset consists of Female data\n",
    "- And 48% of the whole dataset consists of male data"
   ]
  },
  {
   "cell_type": "code",
   "execution_count": 56,
   "id": "aee8e53b",
   "metadata": {},
   "outputs": [
    {
     "data": {
      "image/png": "[encoded data removed]",
      "text/plain": [
       "<Figure size 864x504 with 1 Axes>"
      ]
     },
     "metadata": {},
     "output_type": "display_data"
    }
   ],
   "source": [
    "plt.figure(figsize=(12,7))\n",
    "plt.style.use(\"tableau-colorblind10\")\n",
    "sns.countplot(data = df, x=\"MaritalStatus\", hue=\"Division\" )\n",
    "plt.title(\"Marital Status according to different regions\")\n",
    "plt.show()"
   ]
  },
  {
   "cell_type": "markdown",
   "id": "e9c706bf",
   "metadata": {},
   "source": [
    "- Sylhet has the highest number of married people.\n",
    "- Chattogram has the highest number of single people\n",
    "- And Mymensingh has the highest number of Divorced people"
   ]
  },
  {
   "cell_type": "code",
   "execution_count": 55,
   "id": "c6d33f24",
   "metadata": {},
   "outputs": [
    {
     "data": {
      "text/plain": [
       "Division\n",
       "Khulna        382133\n",
       "Dhaka         317069\n",
       "Chattogram    260128\n",
       "Mymensingh    258850\n",
       "Rangpur       210414\n",
       "Sylhet        172979\n",
       "Rajshahi      167389\n",
       "Barishal       61859\n",
       "Name: Income, dtype: int64"
      ]
     },
     "execution_count": 55,
     "metadata": {},
     "output_type": "execute_result"
    }
   ],
   "source": [
    "df.groupby(\"Division\")['Income'].agg('sum').sort_values(ascending = False)"
   ]
  },
  {
   "cell_type": "code",
   "execution_count": 54,
   "id": "89c41854",
   "metadata": {},
   "outputs": [
    {
     "data": {
      "image/png": "[encoded data removed]",
      "text/plain": [
       "<Figure size 720x432 with 1 Axes>"
      ]
     },
     "metadata": {},
     "output_type": "display_data"
    }
   ],
   "source": [
    "plt.figure(figsize=(10,6))\n",
    "df.groupby(\"Division\")['Income'].agg('sum').sort_values(ascending = False).plot(kind = 'bar') #,color = color\n",
    "plt.title(\"Total income According to Divisions\")\n",
    "plt.show()"
   ]
  },
  {
   "cell_type": "markdown",
   "id": "b52db238",
   "metadata": {},
   "source": [
    "- So, in total Khulna region has the highest income."
   ]
  },
  {
   "cell_type": "markdown",
   "id": "1ce2502a",
   "metadata": {},
   "source": [
    "> Clustering:"
   ]
  },
  {
   "cell_type": "markdown",
   "id": "4757eff3",
   "metadata": {},
   "source": [
    "> Dropping the column named ID from the data frame:"
   ]
  },
  {
   "cell_type": "code",
   "execution_count": 57,
   "id": "66538295",
   "metadata": {},
   "outputs": [
    {
     "data": {
      "text/html": [
       "<div>\n",
       "<style scoped>\n",
       "    .dataframe tbody tr th:only-of-type {\n",
       "        vertical-align: middle;\n",
       "    }\n",
       "\n",
       "    .dataframe tbody tr th {\n",
       "        vertical-align: top;\n",
       "    }\n",
       "\n",
       "    .dataframe thead th {\n",
       "        text-align: right;\n",
       "    }\n",
       "</style>\n",
       "<table border=\"1\" class=\"dataframe\">\n",
       "  <thead>\n",
       "    <tr style=\"text-align: right;\">\n",
       "      <th></th>\n",
       "      <th>Customer Name</th>\n",
       "      <th>Division</th>\n",
       "      <th>Gender</th>\n",
       "      <th>MaritalStatus</th>\n",
       "      <th>Age</th>\n",
       "      <th>Income</th>\n",
       "    </tr>\n",
       "  </thead>\n",
       "  <tbody>\n",
       "    <tr>\n",
       "      <th>0</th>\n",
       "      <td>Christine</td>\n",
       "      <td>Dhaka</td>\n",
       "      <td>F</td>\n",
       "      <td>Married</td>\n",
       "      <td>42</td>\n",
       "      <td>56274</td>\n",
       "    </tr>\n",
       "    <tr>\n",
       "      <th>1</th>\n",
       "      <td>Susan</td>\n",
       "      <td>Rajshahi</td>\n",
       "      <td>F</td>\n",
       "      <td>Single</td>\n",
       "      <td>32</td>\n",
       "      <td>0</td>\n",
       "    </tr>\n",
       "    <tr>\n",
       "      <th>2</th>\n",
       "      <td>Margaret</td>\n",
       "      <td>Khulna</td>\n",
       "      <td>F</td>\n",
       "      <td>Married</td>\n",
       "      <td>48</td>\n",
       "      <td>48767</td>\n",
       "    </tr>\n",
       "  </tbody>\n",
       "</table>\n",
       "</div>"
      ],
      "text/plain": [
       "  Customer Name  Division Gender MaritalStatus  Age  Income\n",
       "0     Christine     Dhaka      F       Married   42   56274\n",
       "1         Susan  Rajshahi      F        Single   32       0\n",
       "2      Margaret    Khulna      F       Married   48   48767"
      ]
     },
     "execution_count": 57,
     "metadata": {},
     "output_type": "execute_result"
    }
   ],
   "source": [
    "df.drop(\"ID\", axis = 1, inplace = True)\n",
    "df.head(3)"
   ]
  },
  {
   "cell_type": "markdown",
   "id": "f8cccb7b",
   "metadata": {},
   "source": [
    "> Label Encoding:"
   ]
  },
  {
   "cell_type": "code",
   "execution_count": 58,
   "id": "ae1a9157",
   "metadata": {},
   "outputs": [
    {
     "data": {
      "text/html": [
       "<div>\n",
       "<style scoped>\n",
       "    .dataframe tbody tr th:only-of-type {\n",
       "        vertical-align: middle;\n",
       "    }\n",
       "\n",
       "    .dataframe tbody tr th {\n",
       "        vertical-align: top;\n",
       "    }\n",
       "\n",
       "    .dataframe thead th {\n",
       "        text-align: right;\n",
       "    }\n",
       "</style>\n",
       "<table border=\"1\" class=\"dataframe\">\n",
       "  <thead>\n",
       "    <tr style=\"text-align: right;\">\n",
       "      <th></th>\n",
       "      <th>Customer Name</th>\n",
       "      <th>Division</th>\n",
       "      <th>Gender</th>\n",
       "      <th>MaritalStatus</th>\n",
       "      <th>Age</th>\n",
       "      <th>Income</th>\n",
       "    </tr>\n",
       "  </thead>\n",
       "  <tbody>\n",
       "    <tr>\n",
       "      <th>0</th>\n",
       "      <td>Christine</td>\n",
       "      <td>2</td>\n",
       "      <td>0</td>\n",
       "      <td>1</td>\n",
       "      <td>42</td>\n",
       "      <td>56274</td>\n",
       "    </tr>\n",
       "    <tr>\n",
       "      <th>1</th>\n",
       "      <td>Susan</td>\n",
       "      <td>5</td>\n",
       "      <td>0</td>\n",
       "      <td>2</td>\n",
       "      <td>32</td>\n",
       "      <td>0</td>\n",
       "    </tr>\n",
       "    <tr>\n",
       "      <th>2</th>\n",
       "      <td>Margaret</td>\n",
       "      <td>3</td>\n",
       "      <td>0</td>\n",
       "      <td>1</td>\n",
       "      <td>48</td>\n",
       "      <td>48767</td>\n",
       "    </tr>\n",
       "  </tbody>\n",
       "</table>\n",
       "</div>"
      ],
      "text/plain": [
       "  Customer Name  Division  Gender  MaritalStatus  Age  Income\n",
       "0     Christine         2       0              1   42   56274\n",
       "1         Susan         5       0              2   32       0\n",
       "2      Margaret         3       0              1   48   48767"
      ]
     },
     "execution_count": 58,
     "metadata": {},
     "output_type": "execute_result"
    }
   ],
   "source": [
    "from sklearn.preprocessing import LabelEncoder\n",
    "lb = LabelEncoder()\n",
    "\n",
    "col = [\"Division\", \"Gender\", \"MaritalStatus\"]\n",
    "for c in col:\n",
    "    df[c] = lb.fit_transform(df[c])\n",
    "df.head(3)"
   ]
  },
  {
   "cell_type": "markdown",
   "id": "8ea544d0",
   "metadata": {},
   "source": [
    "> Now, for the clustering purpose, I'm going to use Age and Income. So, i'll drop the other features."
   ]
  },
  {
   "cell_type": "code",
   "execution_count": 60,
   "id": "0fe5bfd2",
   "metadata": {},
   "outputs": [
    {
     "data": {
      "text/html": [
       "<div>\n",
       "<style scoped>\n",
       "    .dataframe tbody tr th:only-of-type {\n",
       "        vertical-align: middle;\n",
       "    }\n",
       "\n",
       "    .dataframe tbody tr th {\n",
       "        vertical-align: top;\n",
       "    }\n",
       "\n",
       "    .dataframe thead th {\n",
       "        text-align: right;\n",
       "    }\n",
       "</style>\n",
       "<table border=\"1\" class=\"dataframe\">\n",
       "  <thead>\n",
       "    <tr style=\"text-align: right;\">\n",
       "      <th></th>\n",
       "      <th>Age</th>\n",
       "      <th>Income</th>\n",
       "    </tr>\n",
       "  </thead>\n",
       "  <tbody>\n",
       "    <tr>\n",
       "      <th>0</th>\n",
       "      <td>42</td>\n",
       "      <td>56274</td>\n",
       "    </tr>\n",
       "    <tr>\n",
       "      <th>1</th>\n",
       "      <td>32</td>\n",
       "      <td>0</td>\n",
       "    </tr>\n",
       "    <tr>\n",
       "      <th>2</th>\n",
       "      <td>48</td>\n",
       "      <td>48767</td>\n",
       "    </tr>\n",
       "  </tbody>\n",
       "</table>\n",
       "</div>"
      ],
      "text/plain": [
       "   Age  Income\n",
       "0   42   56274\n",
       "1   32       0\n",
       "2   48   48767"
      ]
     },
     "execution_count": 60,
     "metadata": {},
     "output_type": "execute_result"
    }
   ],
   "source": [
    "cluster_df = df.drop(['Customer Name', 'Division', 'Gender', 'MaritalStatus'], axis = 1)\n",
    "cluster_df.head(3)"
   ]
  },
  {
   "cell_type": "code",
   "execution_count": 62,
   "id": "fc9f05c6",
   "metadata": {},
   "outputs": [
    {
     "data": {
      "image/png": "[encoded data removed]",
      "text/plain": [
       "<Figure size 576x396 with 1 Axes>"
      ]
     },
     "metadata": {},
     "output_type": "display_data"
    }
   ],
   "source": [
    "plt.scatter(cluster_df.Age,cluster_df.Income)\n",
    "plt.xlabel('Age')\n",
    "plt.ylabel('Income')\n",
    "plt.show()"
   ]
  },
  {
   "cell_type": "markdown",
   "id": "ed2d3f54",
   "metadata": {},
   "source": [
    "> Most of the values are scattered."
   ]
  },
  {
   "cell_type": "markdown",
   "id": "96fb2919",
   "metadata": {},
   "source": [
    "> The range of Age and Income values are very different. So, i'll first scale the data, using MinMax Scaler"
   ]
  },
  {
   "cell_type": "code",
   "execution_count": 63,
   "id": "7fb80aa5",
   "metadata": {},
   "outputs": [],
   "source": [
    "from sklearn.preprocessing import MinMaxScaler\n",
    "scaler = MinMaxScaler()\n",
    "\n",
    "scaler.fit(cluster_df[['Income']])\n",
    "cluster_df['Income'] = scaler.transform(cluster_df[['Income']])\n",
    "\n",
    "scaler.fit(cluster_df[['Age']])\n",
    "cluster_df['Age'] = scaler.transform(cluster_df[['Age']])"
   ]
  },
  {
   "cell_type": "markdown",
   "id": "2f431cb8",
   "metadata": {},
   "source": [
    "> Now i'm going to create a clustering model using Kmeans Clustaring, first i'll apply k = 8, since the dataset consists of 8 divisions data."
   ]
  },
  {
   "cell_type": "code",
   "execution_count": 64,
   "id": "5883df6d",
   "metadata": {},
   "outputs": [
    {
     "data": {
      "text/plain": [
       "array([5, 1, 0, 1, 2, 2, 5, 4, 4, 3, 4, 1, 6, 6, 6, 4, 3, 3, 2, 0, 2, 7,\n",
       "       7, 4, 4, 6, 7, 1, 6, 0, 4, 5, 1, 2, 2, 5, 5, 2, 4, 2, 1, 2, 5, 5,\n",
       "       0, 4, 1, 3, 4, 4])"
      ]
     },
     "execution_count": 64,
     "metadata": {},
     "output_type": "execute_result"
    }
   ],
   "source": [
    "from sklearn.cluster import KMeans\n",
    "\n",
    "km = KMeans(n_clusters=8)\n",
    "y_predicted = km.fit_predict(cluster_df[['Age','Income']])\n",
    "y_predicted"
   ]
  },
  {
   "cell_type": "code",
   "execution_count": 65,
   "id": "d1ca8c63",
   "metadata": {},
   "outputs": [
    {
     "data": {
      "text/html": [
       "<div>\n",
       "<style scoped>\n",
       "    .dataframe tbody tr th:only-of-type {\n",
       "        vertical-align: middle;\n",
       "    }\n",
       "\n",
       "    .dataframe tbody tr th {\n",
       "        vertical-align: top;\n",
       "    }\n",
       "\n",
       "    .dataframe thead th {\n",
       "        text-align: right;\n",
       "    }\n",
       "</style>\n",
       "<table border=\"1\" class=\"dataframe\">\n",
       "  <thead>\n",
       "    <tr style=\"text-align: right;\">\n",
       "      <th></th>\n",
       "      <th>Age</th>\n",
       "      <th>Income</th>\n",
       "      <th>cluster</th>\n",
       "    </tr>\n",
       "  </thead>\n",
       "  <tbody>\n",
       "    <tr>\n",
       "      <th>0</th>\n",
       "      <td>0.72</td>\n",
       "      <td>0.563614</td>\n",
       "      <td>5</td>\n",
       "    </tr>\n",
       "    <tr>\n",
       "      <th>1</th>\n",
       "      <td>0.32</td>\n",
       "      <td>0.000000</td>\n",
       "      <td>1</td>\n",
       "    </tr>\n",
       "    <tr>\n",
       "      <th>2</th>\n",
       "      <td>0.96</td>\n",
       "      <td>0.488427</td>\n",
       "      <td>0</td>\n",
       "    </tr>\n",
       "    <tr>\n",
       "      <th>3</th>\n",
       "      <td>0.32</td>\n",
       "      <td>0.000000</td>\n",
       "      <td>1</td>\n",
       "    </tr>\n",
       "    <tr>\n",
       "      <th>4</th>\n",
       "      <td>0.00</td>\n",
       "      <td>0.439041</td>\n",
       "      <td>2</td>\n",
       "    </tr>\n",
       "  </tbody>\n",
       "</table>\n",
       "</div>"
      ],
      "text/plain": [
       "    Age    Income  cluster\n",
       "0  0.72  0.563614        5\n",
       "1  0.32  0.000000        1\n",
       "2  0.96  0.488427        0\n",
       "3  0.32  0.000000        1\n",
       "4  0.00  0.439041        2"
      ]
     },
     "execution_count": 65,
     "metadata": {},
     "output_type": "execute_result"
    }
   ],
   "source": [
    "cluster_df['cluster']=y_predicted\n",
    "cluster_df.head()"
   ]
  },
  {
   "cell_type": "code",
   "execution_count": 69,
   "id": "ff6ee085",
   "metadata": {},
   "outputs": [
    {
     "data": {
      "image/png": "[encoded data removed]",
      "text/plain": [
       "<Figure size 576x396 with 1 Axes>"
      ]
     },
     "metadata": {},
     "output_type": "display_data"
    }
   ],
   "source": [
    "df1 = cluster_df[cluster_df.cluster==0]\n",
    "df2 = cluster_df[cluster_df.cluster==1]\n",
    "df3 = cluster_df[cluster_df.cluster==2]\n",
    "df4 = cluster_df[cluster_df.cluster==3]\n",
    "df5 = cluster_df[cluster_df.cluster==4]\n",
    "df6 = cluster_df[cluster_df.cluster==5]\n",
    "df7 = cluster_df[cluster_df.cluster==6]\n",
    "df8 = cluster_df[cluster_df.cluster==7]\n",
    "\n",
    "plt.scatter(df1.Age,df1['Income'],color='green')\n",
    "plt.scatter(df2.Age,df2['Income'],color='red')\n",
    "plt.scatter(df3.Age,df3['Income'],color='black')\n",
    "plt.scatter(df4.Age,df4['Income'],color='yellow')\n",
    "plt.scatter(df5.Age,df5['Income'],color='blue')\n",
    "plt.scatter(df6.Age,df6['Income'],color='orange')\n",
    "plt.scatter(df7.Age,df7['Income'],color='cyan')\n",
    "plt.scatter(df8.Age,df8['Income'],color='purple')\n",
    "\n",
    "plt.scatter(km.cluster_centers_[:,0],km.cluster_centers_[:,1],color='purple',marker='*',label='centroid')\n",
    "plt.xlabel('Age')\n",
    "plt.ylabel('Income')\n",
    "plt.legend()\n",
    "plt.show()"
   ]
  },
  {
   "cell_type": "code",
   "execution_count": null,
   "id": "fd42e543",
   "metadata": {},
   "outputs": [],
   "source": []
  }
 ],
 "metadata": {
  "kernelspec": {
   "display_name": "Python 3 (ipykernel)",
   "language": "python",
   "name": "python3"
  },
  "language_info": {
   "codemirror_mode": {
    "name": "ipython",
    "version": 3
   },
   "file_extension": ".py",
   "mimetype": "text/x-python",
   "name": "python",
   "nbconvert_exporter": "python",
   "pygments_lexer": "ipython3",
   "version": "3.10.3"
  }
 },
 "nbformat": 4,
 "nbformat_minor": 5
}
